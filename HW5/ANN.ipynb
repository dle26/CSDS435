{
 "cells": [
  {
   "cell_type": "code",
   "execution_count": 95,
   "metadata": {
    "id": "8DvxxyhvN9pM"
   },
   "outputs": [],
   "source": [
    "import numpy as np"
   ]
  },
  {
   "cell_type": "code",
   "execution_count": 96,
   "metadata": {},
   "outputs": [],
   "source": [
    "input_ = [[[0.6, 0.1]], [[0.2, 0.3]]]\n",
    "label = [[[1, 0]], [[0, 1]]]"
   ]
  },
  {
   "cell_type": "code",
   "execution_count": 97,
   "metadata": {},
   "outputs": [],
   "source": [
    "w_input = [[0.1, 0, 0.3], [-0.2, 0.2, -0.4]]\n",
    "w_hidden = [[-0.4, 0.2], [0.1, -0.1], [0.6, -0.2]]\n",
    "b_hidden = [0.1, 0.2, 0.5]\n",
    "b_out = [-0.1, 0.6]\n",
    "w_input = np.asarray(w_input)\n",
    "w_hidden = np.asarray(w_hidden)\n",
    "b_hidden = np.asarray(b_hidden)\n",
    "b_out = np.asarray(b_out)\n",
    "learning_rate = 0.1"
   ]
  },
  {
   "cell_type": "code",
   "execution_count": 98,
   "metadata": {
    "id": "DabgEbNeN9pN"
   },
   "outputs": [],
   "source": [
    "def sigmoid(x):\n",
    "    return 1 / (1 + np.exp(-x))\n",
    "\n",
    "def sigmoid_derivative(x):\n",
    "    return x * (1 - x)\n",
    "\n",
    "def error(label, value):\n",
    "    return label - value"
   ]
  },
  {
   "cell_type": "code",
   "execution_count": 99,
   "metadata": {
    "id": "Pn-62IKFN9pP"
   },
   "outputs": [],
   "source": [
    "def forward(input_, w_input, w_hidden, b_hidden, b_out):\n",
    "    hidden = sigmoid(np.dot(input_, w_input) + b_hidden)\n",
    "    out = sigmoid(np.dot(hidden, w_hidden) + b_out)\n",
    "    return hidden, out"
   ]
  },
  {
   "cell_type": "code",
   "execution_count": 100,
   "metadata": {},
   "outputs": [
    {
     "name": "stdout",
     "output_type": "stream",
     "text": [
      "[[0.53494295 0.55477924 0.65475346]]\n",
      "[[0.53353777 0.6272787 ]]\n"
     ]
    }
   ],
   "source": [
    "hidden, out = forward(input_[0], w_input, w_hidden, b_hidden, b_out)\n",
    "print(hidden)\n",
    "print(out)"
   ]
  },
  {
   "cell_type": "code",
   "execution_count": 101,
   "metadata": {
    "id": "_x60PRFCN9pQ"
   },
   "outputs": [],
   "source": [
    "def backpropagation(input_, label, w_input, w_hidden, b_hidden, b_out, hidden, out):\n",
    "    e = error(label, out)\n",
    "    error_out = e * sigmoid_derivative(out)\n",
    "    error_hidden = error_out.dot(w_hidden.T) * sigmoid_derivative(hidden)\n",
    "    \n",
    "    w_hidden = np.add(w_hidden, np.array(hidden).transpose().dot(error_out) * learning_rate)\n",
    "    w_input = np.add(w_input, np.array(input_).transpose().dot(error_hidden) * learning_rate)\n",
    "    \n",
    "    b_out = np.add(b_out, error_out * learning_rate)\n",
    "    b_hidden = np.add(b_hidden, error_hidden * learning_rate)\n",
    "    \n",
    "    return w_input, w_hidden, b_hidden, b_out"
   ]
  },
  {
   "cell_type": "code",
   "execution_count": 102,
   "metadata": {},
   "outputs": [],
   "source": [
    "w_input, w_hidden, b_hidden, b_out = backpropagation(input_[0], label[0], w_input, w_hidden, b_hidden, b_out, hidden, out)"
   ]
  },
  {
   "cell_type": "code",
   "execution_count": 103,
   "metadata": {
    "colab": {
     "base_uri": "https://localhost:8080/"
    },
    "id": "TTgmd6afN9pQ",
    "outputId": "8c23bad9-a12e-43b9-84d7-b456a3adf3bf"
   },
   "outputs": [
    {
     "name": "stdout",
     "output_type": "stream",
     "text": [
      "w1_3 0.09777740762843377\n",
      "w1_4 0.0008039250238362731\n",
      "w1_5 0.3026992888649805\n",
      "w2_3 -0.2003704320619277\n",
      "w2_4 0.2001339875039727\n",
      "w2_5 -0.3995501185225033\n",
      "w3_6 -0.3876778158786246\n",
      "w3_7 0.18434885818063526\n",
      "w4_6 0.11278923892881933\n",
      "w4_7 -0.1162444466339552\n",
      "w5_6 0.6150988875568698\n",
      "w5_7 -0.2191781165429535\n",
      "\n",
      "b3 0.09629567938072295\n",
      "b4 0.20133987503972714\n",
      "b5 0.5044988147749675\n",
      "b6 -0.07695168443256083\n",
      "b7 0.570724862431111\n"
     ]
    }
   ],
   "source": [
    "hidden, out = forward(input_[0], w_input, w_hidden, b_hidden, b_out)\n",
    "w1, w2, b1, b2 = backpropagation(input_[0], label[0], w_input, w_hidden, b_hidden, b_out, hidden, out)\n",
    "    \n",
    "print('w1_3' , w1[0][0])\n",
    "print('w1_4' , w1[0][1])\n",
    "print('w1_5' , w1[0][2])\n",
    "print('w2_3' , w1[1][0])\n",
    "print('w2_4' , w1[1][1])\n",
    "print('w2_5' , w1[1][2])\n",
    "print('w3_6' , w2[0][0])\n",
    "print('w3_7' , w2[0][1])\n",
    "print('w4_6' , w2[1][0])\n",
    "print('w4_7' , w2[1][1])\n",
    "print('w5_6' , w2[2][0])\n",
    "print('w5_7' , w2[2][1])\n",
    "print()\n",
    "print('b3' , b1[0][0])\n",
    "print('b4' , b1[0][1])\n",
    "print('b5' , b1[0][2])\n",
    "print('b6' , b2[0][0])\n",
    "print('b7' , b2[0][1])\n"
   ]
  },
  {
   "cell_type": "code",
   "execution_count": 104,
   "metadata": {
    "id": "9TPnaCA0N9pR"
   },
   "outputs": [
    {
     "name": "stdout",
     "output_type": "stream",
     "text": [
      "w1_3 0.09921625696061542\n",
      "w1_4 0.0002724314560872056\n",
      "w1_5 0.3008686370367534\n",
      "w2_3 -0.1996676571467743\n",
      "w2_4 0.19988945729781218\n",
      "w2_5 -0.4004871199288784\n",
      "w3_6 -0.40063383158673277\n",
      "w3_7 0.19673691247456063\n",
      "w4_6 0.09892641033750611\n",
      "w4_7 -0.10310539224057108\n",
      "w5_6 0.5995009714082755\n",
      "w5_7 -0.20417921677266582\n",
      "\n",
      "b3 0.09985117833383349\n",
      "b4 0.20006418256463945\n",
      "b5 0.49986799647374575\n",
      "b6 -0.10169439622082835\n",
      "b7 0.5942412703256891\n"
     ]
    }
   ],
   "source": [
    "hidden, out = forward(input_[1], w_input, w_hidden, b_hidden, b_out)\n",
    "w1, w2, b1, b2 = backpropagation(input_[1], label[1], w_input, w_hidden, b_hidden, b_out, hidden, out)\n",
    "    \n",
    "print('w1_3' , w1[0][0])\n",
    "print('w1_4' , w1[0][1])\n",
    "print('w1_5' , w1[0][2])\n",
    "print('w2_3' , w1[1][0])\n",
    "print('w2_4' , w1[1][1])\n",
    "print('w2_5' , w1[1][2])\n",
    "print('w3_6' , w2[0][0])\n",
    "print('w3_7' , w2[0][1])\n",
    "print('w4_6' , w2[1][0])\n",
    "print('w4_7' , w2[1][1])\n",
    "print('w5_6' , w2[2][0])\n",
    "print('w5_7' , w2[2][1])\n",
    "print()\n",
    "print('b3' , b1[0][0])\n",
    "print('b4' , b1[0][1])\n",
    "print('b5' , b1[0][2])\n",
    "print('b6' , b2[0][0])\n",
    "print('b7' , b2[0][1])"
   ]
  },
  {
   "cell_type": "code",
   "execution_count": null,
   "metadata": {},
   "outputs": [],
   "source": []
  }
 ],
 "metadata": {
  "colab": {
   "name": "ANN.py.ipynb",
   "provenance": []
  },
  "kernelspec": {
   "display_name": "Python 3",
   "language": "python",
   "name": "python3"
  },
  "language_info": {
   "codemirror_mode": {
    "name": "ipython",
    "version": 3
   },
   "file_extension": ".py",
   "mimetype": "text/x-python",
   "name": "python",
   "nbconvert_exporter": "python",
   "pygments_lexer": "ipython3",
   "version": "3.7.4"
  }
 },
 "nbformat": 4,
 "nbformat_minor": 1
}
