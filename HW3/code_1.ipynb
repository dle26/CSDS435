{
 "cells": [
  {
   "cell_type": "code",
   "execution_count": 33,
   "metadata": {},
   "outputs": [],
   "source": [
    "items = [\n",
    "         ['bread', 'milk'],\n",
    "         ['bread', 'diaper', 'beer', 'eggs'],\n",
    "         ['milk', 'diaper', 'beer', 'coke'],\n",
    "         ['bread', 'milk', 'diaper', 'beer'],\n",
    "         ['bread', 'milk', 'diaper', 'coke']\n",
    "]"
   ]
  },
  {
   "cell_type": "code",
   "execution_count": 34,
   "metadata": {},
   "outputs": [],
   "source": [
    "from FPTree import FPTree\n",
    "import itertools\n",
    "\n",
    "def find_frequent_patterns(transactions, support_threshold):\n",
    "    tree = FPTree(transactions, support_threshold, None, None)\n",
    "    return tree.mine_patterns(support_threshold)\n",
    "\n",
    "def generate_association_rules(patterns, confidence_threshold):\n",
    "    rules = {}\n",
    "\n",
    "    for itemset in patterns.keys():\n",
    "        upper_support = patterns[itemset]\n",
    "\n",
    "        for i in range(1, len(itemset)):\n",
    "            for antecedent in itertools.combinations(itemset, i):\n",
    "                antecedent = tuple(sorted(antecedent))\n",
    "                consequent = tuple(sorted(set(itemset) - set(antecedent)))\n",
    "\n",
    "                if antecedent in patterns:\n",
    "                    lower_support = patterns[antecedent]\n",
    "                    confidence = float(upper_support) / lower_support\n",
    "\n",
    "                    if confidence >= confidence_threshold:\n",
    "                        rules[antecedent] = (consequent, confidence)\n",
    "\n",
    "    return rules"
   ]
  },
  {
   "cell_type": "code",
   "execution_count": 35,
   "metadata": {},
   "outputs": [
    {
     "data": {
      "text/plain": [
       "{('eggs',): 1,\n",
       " ('beer', 'eggs'): 1,\n",
       " ('diaper', 'eggs'): 1,\n",
       " ('bread', 'eggs'): 1,\n",
       " ('beer', 'diaper', 'eggs'): 1,\n",
       " ('beer', 'bread', 'eggs'): 1,\n",
       " ('bread', 'diaper', 'eggs'): 1,\n",
       " ('beer', 'bread', 'diaper', 'eggs'): 1,\n",
       " ('beer', 'coke'): 1,\n",
       " ('beer', 'coke', 'milk'): 1,\n",
       " ('beer', 'coke', 'diaper'): 1,\n",
       " ('beer', 'coke', 'diaper', 'milk'): 1,\n",
       " ('bread', 'coke'): 1,\n",
       " ('bread', 'coke', 'milk'): 1,\n",
       " ('bread', 'coke', 'diaper'): 1,\n",
       " ('bread', 'coke', 'diaper', 'milk'): 1,\n",
       " ('coke', 'diaper'): 2,\n",
       " ('coke', 'milk'): 2,\n",
       " ('coke', 'diaper', 'milk'): 2,\n",
       " ('beer', 'bread'): 2,\n",
       " ('beer', 'bread', 'diaper'): 2,\n",
       " ('beer', 'bread', 'milk'): 1,\n",
       " ('beer', 'bread', 'diaper', 'milk'): 1,\n",
       " ('beer', 'milk'): 2,\n",
       " ('beer', 'diaper', 'milk'): 2,\n",
       " ('beer', 'diaper'): 3,\n",
       " ('bread',): 4,\n",
       " ('milk',): 4,\n",
       " ('bread', 'milk'): 3,\n",
       " ('bread', 'diaper'): 3,\n",
       " ('bread', 'diaper', 'milk'): 2,\n",
       " ('diaper', 'milk'): 3}"
      ]
     },
     "execution_count": 35,
     "metadata": {},
     "output_type": "execute_result"
    }
   ],
   "source": [
    "patterns = find_frequent_patterns(items, 0.4)\n",
    "patterns"
   ]
  },
  {
   "cell_type": "code",
   "execution_count": 36,
   "metadata": {},
   "outputs": [
    {
     "data": {
      "text/plain": [
       "{('eggs',): (('beer', 'bread', 'diaper'), 1.0),\n",
       " ('beer', 'eggs'): (('bread', 'diaper'), 1.0),\n",
       " ('diaper', 'eggs'): (('beer', 'bread'), 1.0),\n",
       " ('bread', 'eggs'): (('beer', 'diaper'), 1.0),\n",
       " ('beer', 'bread', 'eggs'): (('diaper',), 1.0),\n",
       " ('beer', 'diaper', 'eggs'): (('bread',), 1.0),\n",
       " ('bread', 'diaper', 'eggs'): (('beer',), 1.0),\n",
       " ('beer', 'coke'): (('diaper', 'milk'), 1.0),\n",
       " ('beer', 'coke', 'diaper'): (('milk',), 1.0),\n",
       " ('beer', 'coke', 'milk'): (('diaper',), 1.0),\n",
       " ('bread', 'coke'): (('diaper', 'milk'), 1.0),\n",
       " ('bread', 'coke', 'diaper'): (('milk',), 1.0),\n",
       " ('bread', 'coke', 'milk'): (('diaper',), 1.0),\n",
       " ('coke', 'diaper'): (('milk',), 1.0),\n",
       " ('coke', 'milk'): (('diaper',), 1.0),\n",
       " ('diaper', 'milk'): (('bread',), 0.6666666666666666),\n",
       " ('beer', 'bread'): (('diaper',), 1.0),\n",
       " ('beer', 'diaper'): (('milk',), 0.6666666666666666),\n",
       " ('bread', 'diaper'): (('milk',), 0.6666666666666666),\n",
       " ('beer', 'bread', 'milk'): (('diaper',), 1.0),\n",
       " ('beer', 'milk'): (('diaper',), 1.0),\n",
       " ('bread',): (('diaper',), 0.75),\n",
       " ('milk',): (('diaper',), 0.75),\n",
       " ('bread', 'milk'): (('diaper',), 0.6666666666666666)}"
      ]
     },
     "execution_count": 36,
     "metadata": {},
     "output_type": "execute_result"
    }
   ],
   "source": [
    "rules = generate_association_rules(patterns, 0.6)\n",
    "rules"
   ]
  },
  {
   "cell_type": "code",
   "execution_count": 37,
   "metadata": {},
   "outputs": [],
   "source": [
    "import json\n",
    "def fPGrowthAlgo(transactions, support_threshold, confidence_threshold):\n",
    "    patterns = find_frequent_patterns(transactions, support_threshold)\n",
    "    print('Patterns :')\n",
    "    print(patterns)\n",
    "    \n",
    "    frequent_set = generate_association_rules(patterns, confidence_threshold)\n",
    "    print('Association Rules: ')\n",
    "    print(frequent_set)\n",
    "    "
   ]
  },
  {
   "cell_type": "code",
   "execution_count": 38,
   "metadata": {
    "scrolled": true
   },
   "outputs": [
    {
     "name": "stdout",
     "output_type": "stream",
     "text": [
      "Patterns :\n",
      "{('eggs',): 1, ('beer', 'eggs'): 1, ('diaper', 'eggs'): 1, ('bread', 'eggs'): 1, ('beer', 'diaper', 'eggs'): 1, ('beer', 'bread', 'eggs'): 1, ('bread', 'diaper', 'eggs'): 1, ('beer', 'bread', 'diaper', 'eggs'): 1, ('beer', 'coke'): 1, ('beer', 'coke', 'milk'): 1, ('beer', 'coke', 'diaper'): 1, ('beer', 'coke', 'diaper', 'milk'): 1, ('bread', 'coke'): 1, ('bread', 'coke', 'milk'): 1, ('bread', 'coke', 'diaper'): 1, ('bread', 'coke', 'diaper', 'milk'): 1, ('coke', 'diaper'): 2, ('coke', 'milk'): 2, ('coke', 'diaper', 'milk'): 2, ('beer', 'bread'): 2, ('beer', 'bread', 'diaper'): 2, ('beer', 'bread', 'milk'): 1, ('beer', 'bread', 'diaper', 'milk'): 1, ('beer', 'milk'): 2, ('beer', 'diaper', 'milk'): 2, ('beer', 'diaper'): 3, ('bread',): 4, ('milk',): 4, ('bread', 'milk'): 3, ('bread', 'diaper'): 3, ('bread', 'diaper', 'milk'): 2, ('diaper', 'milk'): 3}\n",
      "Association Rules: \n",
      "{('eggs',): (('beer', 'bread', 'diaper'), 1.0), ('beer', 'eggs'): (('bread', 'diaper'), 1.0), ('diaper', 'eggs'): (('beer', 'bread'), 1.0), ('bread', 'eggs'): (('beer', 'diaper'), 1.0), ('beer', 'bread', 'eggs'): (('diaper',), 1.0), ('beer', 'diaper', 'eggs'): (('bread',), 1.0), ('bread', 'diaper', 'eggs'): (('beer',), 1.0), ('beer', 'coke'): (('diaper', 'milk'), 1.0), ('beer', 'coke', 'diaper'): (('milk',), 1.0), ('beer', 'coke', 'milk'): (('diaper',), 1.0), ('bread', 'coke'): (('diaper', 'milk'), 1.0), ('bread', 'coke', 'diaper'): (('milk',), 1.0), ('bread', 'coke', 'milk'): (('diaper',), 1.0), ('coke', 'diaper'): (('milk',), 1.0), ('coke', 'milk'): (('diaper',), 1.0), ('diaper', 'milk'): (('bread',), 0.6666666666666666), ('beer', 'bread'): (('diaper',), 1.0), ('beer', 'diaper'): (('milk',), 0.6666666666666666), ('bread', 'diaper'): (('milk',), 0.6666666666666666), ('beer', 'bread', 'milk'): (('diaper',), 1.0), ('beer', 'milk'): (('diaper',), 1.0), ('bread',): (('diaper',), 0.75), ('milk',): (('diaper',), 0.75), ('bread', 'milk'): (('diaper',), 0.6666666666666666)}\n"
     ]
    }
   ],
   "source": [
    "fPGrowthAlgo(items, 0.4, 0.6)"
   ]
  },
  {
   "cell_type": "code",
   "execution_count": null,
   "metadata": {},
   "outputs": [],
   "source": []
  }
 ],
 "metadata": {
  "kernelspec": {
   "display_name": "Python 3",
   "language": "python",
   "name": "python3"
  },
  "language_info": {
   "codemirror_mode": {
    "name": "ipython",
    "version": 3
   },
   "file_extension": ".py",
   "mimetype": "text/x-python",
   "name": "python",
   "nbconvert_exporter": "python",
   "pygments_lexer": "ipython3",
   "version": "3.8.5"
  }
 },
 "nbformat": 4,
 "nbformat_minor": 4
}
