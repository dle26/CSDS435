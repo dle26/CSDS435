{
 "cells": [
  {
   "cell_type": "code",
   "execution_count": 1,
   "metadata": {
    "id": "tdobO8T_Tgz9"
   },
   "outputs": [],
   "source": [
    "from libsvm.commonutil import svm_read_problem\n",
    "from libsvm.svmutil import *\n",
    "from libsvm.svm import *\n",
    "from sklearn.model_selection import KFold\n",
    "import numpy as np\n",
    "import math\n",
    "import torch\n",
    "from matplotlib import pyplot as plt"
   ]
  },
  {
   "cell_type": "markdown",
   "metadata": {
    "id": "WR8CIjfOTJx3"
   },
   "source": [
    "## SVM Accuracy and Cross-Validation for Model Selection"
   ]
  },
  {
   "cell_type": "code",
   "execution_count": 2,
   "metadata": {
    "id": "kkoKS6G7UGFK"
   },
   "outputs": [],
   "source": [
    "train_path = '/Users/dl/Downloads/HW3_2/DogsVsCats/DogsVsCats/DogsVsCats.train'\n",
    "test_path = '/Users/dl/Downloads/HW3_2/DogsVsCats/DogsVsCats/DogsVsCats.test'"
   ]
  },
  {
   "cell_type": "code",
   "execution_count": 3,
   "metadata": {},
   "outputs": [],
   "source": [
    "y, x = svm_read_problem(train_path)\n",
    "y_test, x_test = svm_read_problem(test_path)"
   ]
  },
  {
   "cell_type": "code",
   "execution_count": 4,
   "metadata": {
    "colab": {
     "base_uri": "https://localhost:8080/"
    },
    "id": "BXKivjwbUL8X",
    "outputId": "cd55aa5c-8b24-4dff-cf50-a389fec020ec"
   },
   "outputs": [
    {
     "name": "stdout",
     "output_type": "stream",
     "text": [
      "Linear Kernel\n",
      "Accuracy = 59.2% (7400/12500) (classification)\n",
      "Polynomial Kernel\n",
      "Accuracy = 50.096% (6262/12500) (classification)\n"
     ]
    }
   ],
   "source": [
    "linear = svm_train(y, x, f'-t 0')\n",
    "poly = svm_train(y, x, f'-t 1')\n",
    "\n",
    "print('Linear Kernel')\n",
    "label, acc, val = svm_predict(y_test, x_test, linear)\n",
    "print('Polynomial Kernel')\n",
    "label, acc, val = svm_predict(y_test, x_test, poly)"
   ]
  },
  {
   "cell_type": "markdown",
   "metadata": {
    "id": "3RBX_KuWi369"
   },
   "source": [
    "### The Linear Kernel has better result"
   ]
  },
  {
   "cell_type": "code",
   "execution_count": 5,
   "metadata": {
    "colab": {
     "base_uri": "https://localhost:8080/"
    },
    "id": "Ewpmw_Q4YKd4",
    "outputId": "fbc46629-ed1e-43c5-848f-ca1c7011474f"
   },
   "outputs": [
    {
     "name": "stdout",
     "output_type": "stream",
     "text": [
      "Iteration 1\n",
      "Linear Kernel\n",
      "Accuracy = 57.04% (713/1250) (classification)\n",
      "Polynomial Kernel\n",
      "Accuracy = 49.04% (613/1250) (classification)\n",
      "Iteration 2\n",
      "Linear Kernel\n",
      "Accuracy = 59.2% (740/1250) (classification)\n",
      "Polynomial Kernel\n",
      "Accuracy = 48.64% (608/1250) (classification)\n",
      "Iteration 3\n",
      "Linear Kernel\n",
      "Accuracy = 60% (750/1250) (classification)\n",
      "Polynomial Kernel\n",
      "Accuracy = 48.96% (612/1250) (classification)\n",
      "Iteration 4\n",
      "Linear Kernel\n",
      "Accuracy = 59.28% (741/1250) (classification)\n",
      "Polynomial Kernel\n",
      "Accuracy = 49.04% (613/1250) (classification)\n",
      "Iteration 5\n",
      "Linear Kernel\n",
      "Accuracy = 56.32% (704/1250) (classification)\n",
      "Polynomial Kernel\n",
      "Accuracy = 49.36% (617/1250) (classification)\n",
      "Iteration 6\n",
      "Linear Kernel\n",
      "Accuracy = 61.04% (763/1250) (classification)\n",
      "Polynomial Kernel\n",
      "Accuracy = 49.92% (624/1250) (classification)\n",
      "Iteration 7\n",
      "Linear Kernel\n",
      "Accuracy = 60.88% (761/1250) (classification)\n",
      "Polynomial Kernel\n",
      "Accuracy = 48.8% (610/1250) (classification)\n",
      "Iteration 8\n",
      "Linear Kernel\n",
      "Accuracy = 62.72% (784/1250) (classification)\n",
      "Polynomial Kernel\n",
      "Accuracy = 49.28% (616/1250) (classification)\n",
      "Iteration 9\n",
      "Linear Kernel\n",
      "Accuracy = 59.28% (741/1250) (classification)\n",
      "Polynomial Kernel\n",
      "Accuracy = 49.36% (617/1250) (classification)\n",
      "Iteration 10\n",
      "Linear Kernel\n",
      "Accuracy = 60.96% (762/1250) (classification)\n",
      "Polynomial Kernel\n",
      "Accuracy = 48.16% (602/1250) (classification)\n"
     ]
    }
   ],
   "source": [
    "kf = KFold(10, True)\n",
    "i = 1\n",
    "for train_index, test_index in kf.split(x):\n",
    "    x_test = np.array(x)[test_index]\n",
    "    x_train = np.array(x)[train_index]\n",
    "    y_test = np.array(y)[test_index]\n",
    "    y_train = np.array(y)[train_index]\n",
    "\n",
    "    print('Iteration ' + str(i))\n",
    "    print('Linear Kernel')\n",
    "    linear = svm_train(y_train, x_train, '-t 0')\n",
    "    p_label, p_acc, p_val = svm_predict(y_test, x_test, linear)\n",
    "\n",
    "    print('Polynomial Kernel')\n",
    "    poly = svm_train(y_train, x_train, '-t 1')\n",
    "    p_label, p_acc, p_val = svm_predict(y_test, x_test, poly)\n",
    "\n",
    "    i += 1"
   ]
  },
  {
   "cell_type": "markdown",
   "metadata": {
    "id": "__i9PONcWqWi"
   },
   "source": [
    "## Boosting SVM"
   ]
  },
  {
   "cell_type": "code",
   "execution_count": 6,
   "metadata": {
    "id": "FtvHOmx-XArm"
   },
   "outputs": [
    {
     "name": "stdout",
     "output_type": "stream",
     "text": [
      "Accuracy = 59.2% (7400/12500) (classification)\n"
     ]
    }
   ],
   "source": [
    "# torch.set_printoptions(precision=20)\n",
    "y, x = svm_read_problem(train_path)\n",
    "y_test, x_test = svm_read_problem(test_path)\n",
    "linear = svm_train(y, x, f'-t 0')\n",
    "label, acc, val = svm_predict(y_test, x_test, linear)"
   ]
  },
  {
   "cell_type": "code",
   "execution_count": 7,
   "metadata": {
    "id": "imQJqIBDNGHo"
   },
   "outputs": [],
   "source": [
    "def adaboost(K, input_, output, predict):\n",
    "    weight =  torch.as_tensor([1 / len(input_)] * len(input_))\n",
    "    alphaArr = []\n",
    "    errorArr = []\n",
    "    for idx in range(K):\n",
    "      # get current different\n",
    "      temp = output - predict\n",
    "      \n",
    "      delta = (temp > 0).float()\n",
    "      error_rate = torch.dot(weight, delta)\n",
    "      alpha = 1/2 * (math.log((1 - error_rate) / error_rate))\n",
    "\n",
    "      alphaArr.append(alpha)\n",
    "      errorArr.append(error_rate)\n",
    "\n",
    "      weight = (weight * (math.exp(alpha))) / sum(weight * (math.exp(alpha)))\n",
    "    return alphaArr, errorArr"
   ]
  },
  {
   "cell_type": "code",
   "execution_count": 8,
   "metadata": {
    "colab": {
     "base_uri": "https://localhost:8080/",
     "height": 736
    },
    "id": "2UZ5I77rNA-m",
    "outputId": "910a611e-3bdc-469d-d278-ec9b6332204f"
   },
   "outputs": [
    {
     "data": {
      "image/png": "[encoded data removed]",
      "text/plain": [
       "<Figure size 432x288 with 1 Axes>"
      ]
     },
     "metadata": {
      "needs_background": "light"
     },
     "output_type": "display_data"
    },
    {
     "data": {
      "image/png": "[encoded data removed]",
      "text/plain": [
       "<Figure size 432x288 with 1 Axes>"
      ]
     },
     "metadata": {
      "needs_background": "light"
     },
     "output_type": "display_data"
    }
   ],
   "source": [
    "alpha_10, error_10 = adaboost(10, x_test, torch.as_tensor(y_test), torch.as_tensor(label))\n",
    "plt.plot(alpha_10)\n",
    "plt.title('Alpha K = 10')\n",
    "plt.show()\n",
    "\n",
    "plt.plot(error_10)\n",
    "plt.title('Error rate K = 10')\n",
    "plt.show()"
   ]
  },
  {
   "cell_type": "code",
   "execution_count": 9,
   "metadata": {
    "colab": {
     "base_uri": "https://localhost:8080/",
     "height": 909
    },
    "id": "mS0w_ILAVcLV",
    "outputId": "c78e1b92-0ddf-4592-a20d-d44ccd327fe2"
   },
   "outputs": [
    {
     "data": {
      "image/png": "[encoded data removed]",
      "text/plain": [
       "<Figure size 432x288 with 1 Axes>"
      ]
     },
     "metadata": {
      "needs_background": "light"
     },
     "output_type": "display_data"
    },
    {
     "data": {
      "image/png": "[encoded data removed]",
      "text/plain": [
       "<Figure size 432x288 with 1 Axes>"
      ]
     },
     "metadata": {
      "needs_background": "light"
     },
     "output_type": "display_data"
    }
   ],
   "source": [
    "alpha_20, error_20 = adaboost(20, x_test, torch.as_tensor(y_test), torch.as_tensor(label))\n",
    "plt.plot(alpha_20)\n",
    "plt.title('Alpha K = 20')\n",
    "plt.show()\n",
    "\n",
    "plt.plot(error_20)\n",
    "plt.title('Error rate K = 20')\n",
    "plt.show()"
   ]
  },
  {
   "cell_type": "code",
   "execution_count": null,
   "metadata": {
    "id": "koakERAZXzEN"
   },
   "outputs": [],
   "source": []
  }
 ],
 "metadata": {
  "accelerator": "GPU",
  "colab": {
   "collapsed_sections": [],
   "name": "hw6",
   "provenance": []
  },
  "kernelspec": {
   "display_name": "Python 3",
   "language": "python",
   "name": "python3"
  },
  "language_info": {
   "codemirror_mode": {
    "name": "ipython",
    "version": 3
   },
   "file_extension": ".py",
   "mimetype": "text/x-python",
   "name": "python",
   "nbconvert_exporter": "python",
   "pygments_lexer": "ipython3",
   "version": "3.7.4"
  }
 },
 "nbformat": 4,
 "nbformat_minor": 1
}
